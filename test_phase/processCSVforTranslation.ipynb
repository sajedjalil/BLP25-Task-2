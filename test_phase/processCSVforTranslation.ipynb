{
 "cells": [
  {
   "cell_type": "markdown",
   "id": "1c3f4644",
   "metadata": {},
   "source": [
    "## Create and activate virutal environment"
   ]
  },
  {
   "cell_type": "code",
   "execution_count": null,
   "id": "972dd1df",
   "metadata": {},
   "outputs": [],
   "source": [
    "%%python3 -m venv ../myenv\n",
    "%%source ../myenv/bin/activate"
   ]
  },
  {
   "cell_type": "markdown",
   "id": "c19b6bc2",
   "metadata": {},
   "source": [
    "## Select myenv python run environment from the kernal if not already selected"
   ]
  },
  {
   "cell_type": "code",
   "execution_count": null,
   "id": "24b649aa",
   "metadata": {},
   "outputs": [],
   "source": [
    "%pip install -r ../requirements.txt"
   ]
  },
  {
   "cell_type": "code",
   "execution_count": null,
   "id": "434430a4",
   "metadata": {},
   "outputs": [],
   "source": [
    "from dotenv import load_dotenv\n",
    "import pandas as pd\n",
    "import os\n",
    "import openpyxl\n",
    "\n",
    "load_dotenv()\n",
    "\n",
    "data_folder = \"data\"\n",
    "test_file_path = os.path.join(data_folder, \"test_v1.csv\")\n"
   ]
  },
  {
   "cell_type": "code",
   "execution_count": null,
   "id": "728eafb4",
   "metadata": {},
   "outputs": [],
   "source": [
    "df = pd.read_csv(test_file_path)\n",
    "df['instruction'].head()"
   ]
  },
  {
   "cell_type": "code",
   "execution_count": null,
   "id": "7e637e31",
   "metadata": {},
   "outputs": [],
   "source": [
    "# Function to output a xlsx file from the 'instruction' column\n",
    "def output_instruction_xlsx(df, output_file_path):\n",
    "    if 'instruction' in df.columns:\n",
    "        df[['instruction']].to_excel(output_file_path, index=False)\n",
    "    else:\n",
    "        print(\"Column 'instruction' not found in DataFrame\")\n",
    "\n",
    "# Example usage\n",
    "output_file_path = os.path.join(data_folder, \"instruction_output.xlsx\")\n",
    "output_instruction_xlsx(df, output_file_path)"
   ]
  },
  {
   "cell_type": "markdown",
   "id": "f90906db",
   "metadata": {},
   "source": [
    "### Take this file to google translate and translate from Bangla to English. Then paste the generated file in the data folder as 'instruction_output_english_translated.xlsx'"
   ]
  },
  {
   "cell_type": "code",
   "execution_count": null,
   "id": "55a6bd2e",
   "metadata": {},
   "outputs": [],
   "source": [
    "# Read the column from the Excel file\n",
    "translated_file = 'instruction_output_english_translated.xlsx'\n",
    "df_translated_instruction = pd.read_excel( os.path.join(data_folder, translated_file), engine='openpyxl')\n",
    "df_translated_instruction['instruction'].head()"
   ]
  },
  {
   "cell_type": "markdown",
   "id": "4417a802",
   "metadata": {},
   "source": [
    "## Merge English Translated File back to the original"
   ]
  },
  {
   "cell_type": "code",
   "execution_count": null,
   "id": "ad7a7674",
   "metadata": {},
   "outputs": [],
   "source": [
    "# Merge 'english_instruction' column into the original dataframe\n",
    "df['english_instruction'] = df_translated_instruction['instruction']\n",
    "\n",
    "# Save the updated dataframe to a CSV file\n",
    "merged_output_file_path = os.path.join(data_folder, \"merged_instructions.csv\")\n",
    "df.to_csv(merged_output_file_path, index=False)"
   ]
  },
  {
   "cell_type": "code",
   "execution_count": null,
   "id": "a54766af",
   "metadata": {},
   "outputs": [],
   "source": [
    "# Delete translated_file and instruction_output.xlsx\n",
    "os.remove(os.path.join(data_folder, translated_file))\n",
    "os.remove(os.path.join(data_folder, \"instruction_output.xlsx\"))"
   ]
  }
 ],
 "metadata": {
  "kernelspec": {
   "display_name": "myenv",
   "language": "python",
   "name": "python3"
  },
  "language_info": {
   "codemirror_mode": {
    "name": "ipython",
    "version": 3
   },
   "file_extension": ".py",
   "mimetype": "text/x-python",
   "name": "python",
   "nbconvert_exporter": "python",
   "pygments_lexer": "ipython3",
   "version": "3.12.7"
  }
 },
 "nbformat": 4,
 "nbformat_minor": 5
}
