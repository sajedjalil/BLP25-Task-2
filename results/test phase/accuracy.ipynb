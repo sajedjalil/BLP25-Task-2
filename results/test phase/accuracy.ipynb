{
 "cells": [
  {
   "cell_type": "code",
   "execution_count": null,
   "id": "9fa5a1f4",
   "metadata": {},
   "outputs": [],
   "source": [
    "%pip install matplotlib pandas numpy seaborn"
   ]
  },
  {
   "cell_type": "code",
   "execution_count": null,
   "id": "0db97e4b",
   "metadata": {},
   "outputs": [],
   "source": [
    "import matplotlib.pyplot as plt\n",
    "import numpy as np\n",
    "import pandas as pd"
   ]
  },
  {
   "cell_type": "code",
   "execution_count": null,
   "id": "82a41b2a",
   "metadata": {},
   "outputs": [],
   "source": [
    "df = pd.read_csv('accuracy.csv')\n",
    "df"
   ]
  },
  {
   "cell_type": "code",
   "execution_count": null,
   "id": "310a53f7",
   "metadata": {},
   "outputs": [],
   "source": [
    "import seaborn as sns\n",
    "df_heatmap = df.set_index('Model')\n",
    "\n",
    "# Create the heatmap\n",
    "plt.figure(figsize=(8, 6))\n",
    "sns.heatmap(df_heatmap, \n",
    "            annot=True,  # Show the values\n",
    "            cmap='Greens',  # Color scheme (red-yellow-blue reversed)\n",
    "            fmt='.2f',  # Format numbers to 2 decimal places\n",
    "            cbar_kws={'label': 'Accuracy Rate'},\n",
    "            linewidths=0.5,  # Add lines between cells\n",
    "            square=False,\n",
    "            annot_kws={'size': 12, 'weight': 'bold'})  # Don't force square cells\n",
    "\n",
    "# plt.title('Model Accuracy Heatmap', fontsize=16, fontweight='bold', pad=20)\n",
    "# plt.xlabel('Approaches', fontsize=15, fontweight='bold')\n",
    "# plt.ylabel('Models', fontsize=15, fontweight='bold')\n",
    "\n",
    "# Rotate x-axis labels for better readability\n",
    "plt.xticks(rotation=45, ha='right')\n",
    "plt.yticks(rotation=0)\n",
    "\n",
    "# Adjust layout to prevent label cutoff\n",
    "plt.tight_layout()\n",
    "\n",
    "# Save the plot BEFORE showing it\n",
    "plt.savefig('accuracy_heatmap.png', dpi=300, bbox_inches='tight')\n",
    "\n",
    "# Display the plot\n",
    "plt.show()"
   ]
  }
 ],
 "metadata": {
  "kernelspec": {
   "display_name": "myenv",
   "language": "python",
   "name": "python3"
  },
  "language_info": {
   "codemirror_mode": {
    "name": "ipython",
    "version": 3
   },
   "file_extension": ".py",
   "mimetype": "text/x-python",
   "name": "python",
   "nbconvert_exporter": "python",
   "pygments_lexer": "ipython3",
   "version": "3.12.7"
  }
 },
 "nbformat": 4,
 "nbformat_minor": 5
}
