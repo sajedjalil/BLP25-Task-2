{
 "cells": [
  {
   "cell_type": "code",
   "execution_count": null,
   "id": "84f20a4d-daad-494a-b167-5ed5bd6eb0ec",
   "metadata": {},
   "outputs": [],
   "source": [
    "%%python3 -m venv ../myenv\n",
    "%%source ../myenv/bin/activate"
   ]
  },
  {
   "cell_type": "code",
   "execution_count": null,
   "id": "e73589a5",
   "metadata": {
    "scrolled": true
   },
   "outputs": [],
   "source": [
    "%pip install -r ../requirements.txt"
   ]
  },
  {
   "cell_type": "code",
   "execution_count": null,
   "id": "a88b3572",
   "metadata": {},
   "outputs": [],
   "source": [
    "from dotenv import load_dotenv\n",
    "import pandas as pd\n",
    "import os\n",
    "\n",
    "load_dotenv()\n",
    "OPENAI_API_KEY = os.getenv(\"OPENAI_API_KEY\")"
   ]
  },
  {
   "cell_type": "code",
   "execution_count": null,
   "id": "53dc5008",
   "metadata": {
    "scrolled": true
   },
   "outputs": [],
   "source": [
    "data_folder = \"data\"\n",
    "dev_file_path = os.path.join(data_folder, \"merged_instructions.csv\")\n",
    "df = pd.read_csv(dev_file_path)\n",
    "df['english_instruction'].head()"
   ]
  },
  {
   "cell_type": "code",
   "execution_count": null,
   "id": "d1d650d9",
   "metadata": {},
   "outputs": [],
   "source": [
    "from openai import OpenAI\n",
    "\n",
    "client = OpenAI()\n",
    "result_data = []\n",
    "\n",
    "for index, row in df.iterrows():\n",
    "    message = row['english_instruction']\n",
    "\n",
    "    user_message = \"Write a python function that calculates the following: \\n\" \\\n",
    "                f\"{message} \\n\" \\\n",
    "                \"The method signature should be according to the given in the example part.\\n\" \\\n",
    "                \"Use the following guidelines in generation: \\n\" \\\n",
    "                \" - Provide the code only\\n\" \\\n",
    "                \" - Do not output any other texts or test cases results.\\n\" \\\n",
    "                \" - Include the necessary import statements on the top, even if they are usually not needed like - re, typing, itertools, Split etc. \\n\" \\\n",
    "                \" - Do not include any comments in the code\\n\" \\\n",
    "                \" - Do not forget to consider the edge cases\\n\" \\\n",
    "                \" - Lastly, verify the code has no compilation errors and contains the necessary imports.\"\n",
    "\n",
    "    response = client.responses.create(\n",
    "        model=\"gpt-5\",\n",
    "        reasoning={\"effort\": \"medium\"},\n",
    "        max_output_tokens=2048,\n",
    "        input=[\n",
    "            {\n",
    "                \"role\": \"user\", \n",
    "                \"content\": user_message\n",
    "            }\n",
    "        ]\n",
    "    )\n",
    "    output = response.output_text\n",
    "    print(output)\n",
    "\n",
    "    result_data.append({\n",
    "        \"id\": row['id'],\n",
    "        \"response\": output\n",
    "    })\n",
    "\n",
    "    break\n",
    "\n",
    "result_df = pd.DataFrame(result_data)"
   ]
  },
  {
   "cell_type": "code",
   "execution_count": null,
   "id": "5ba152d9",
   "metadata": {},
   "outputs": [],
   "source": [
    "# Create a json from the result_df\n",
    "result_json = result_df.to_json(orient=\"records\", indent=4)\n",
    "# save json in the data_folder os.path.join(data_folder, \"submission.json\")\n",
    "with open(os.path.join(data_folder, \"submission-gpt5.json\"), \"w\") as json_file:\n",
    "    json_file.write(result_json)\n"
   ]
  }
 ],
 "metadata": {
  "kernelspec": {
   "display_name": "Python [conda env:base] *",
   "language": "python",
   "name": "conda-base-py"
  },
  "language_info": {
   "codemirror_mode": {
    "name": "ipython",
    "version": 3
   },
   "file_extension": ".py",
   "mimetype": "text/x-python",
   "name": "python",
   "nbconvert_exporter": "python",
   "pygments_lexer": "ipython3",
   "version": "3.13.5"
  }
 },
 "nbformat": 4,
 "nbformat_minor": 5
}
