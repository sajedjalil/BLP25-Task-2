{
 "cells": [
  {
   "cell_type": "code",
   "execution_count": null,
   "id": "1d215b67",
   "metadata": {},
   "outputs": [],
   "source": [
    "%%python3 -m venv ../myenv\n",
    "%%source ../myenv/bin/activate"
   ]
  },
  {
   "cell_type": "code",
   "execution_count": null,
   "id": "e73589a5",
   "metadata": {},
   "outputs": [],
   "source": [
    "%pip install -r ../requirements.txt"
   ]
  },
  {
   "cell_type": "code",
   "execution_count": 3,
   "id": "a88b3572",
   "metadata": {},
   "outputs": [],
   "source": [
    "from dotenv import load_dotenv\n",
    "import pandas as pd\n",
    "import os\n",
    "\n",
    "load_dotenv()\n",
    "ANTHROPIC_API_KEY = os.getenv(\"ANTHROPIC_API_KEY\")"
   ]
  },
  {
   "cell_type": "code",
   "execution_count": 4,
   "id": "53dc5008",
   "metadata": {},
   "outputs": [
    {
     "data": {
      "text/plain": [
       "0     Write a function that finds the longest chain...\n",
       "1     Write a Python function to find the first rep...\n",
       "2     Write a function that can get a ludic number ...\n",
       "3     Write a function to reverse the words in a gi...\n",
       "4    Write a function to check if the given integer...\n",
       "Name: english_instruction, dtype: object"
      ]
     },
     "execution_count": 4,
     "metadata": {},
     "output_type": "execute_result"
    }
   ],
   "source": [
    "data_folder = \"data\"\n",
    "dev_file_path = os.path.join(data_folder, \"merged_instructions.csv\")\n",
    "df = pd.read_csv(dev_file_path)\n",
    "df['english_instruction'].head()"
   ]
  },
  {
   "cell_type": "code",
   "execution_count": null,
   "id": "d1d650d9",
   "metadata": {},
   "outputs": [],
   "source": [
    "import anthropic\n",
    "result_data = []\n",
    "\n",
    "for index, row in df.iterrows():\n",
    "    message = row['english_instruction']\n",
    "\n",
    "    user_message = \"Write a python function that calculates the following: \\n\" \\\n",
    "                f\"{message} \\n\" \\\n",
    "                \"The method signature should be according to the given in the example part.\\n\" \\\n",
    "                \"Use the following guidlines in generation: \\n\" \\\n",
    "                \" - Provide the code only\\n\" \\\n",
    "                \" - Do not output any other texts or test cases results.\\n\" \\\n",
    "                \" - Include the necessary import statements on the top even if they are usually not needed like - re, typing, itertools, Split etc. \\n\" \\\n",
    "                \" - Do not include any comments in the code\\n\" \\\n",
    "                \" - Do not forget to consider the edge cases\\n\" \\\n",
    "                \" - Lastly, verify the code has no compilations error and contains the necessary imports.\"\n",
    "\n",
    "    response = anthropic.Anthropic().messages.create(\n",
    "        model=\"claude-3-7-sonnet-20250219\",\n",
    "        max_tokens=2048,\n",
    "        thinking={\n",
    "        \"type\": \"enabled\",\n",
    "        \"budget_tokens\": 1024\n",
    "        },\n",
    "        messages=[\n",
    "            {\"role\": \"user\", \"content\": user_message}\n",
    "        ]\n",
    "    )\n",
    "    print(response)\n",
    "    output = response.content[1].text\n",
    "\n",
    "    print(output)\n",
    "\n",
    "    result_data.append({\n",
    "        \"id\": row['id'],\n",
    "        \"response\": output\n",
    "    })\n",
    "\n",
    "    break\n",
    "\n",
    "result_df = pd.DataFrame(result_data)"
   ]
  },
  {
   "cell_type": "code",
   "execution_count": null,
   "id": "5ba152d9",
   "metadata": {},
   "outputs": [],
   "source": [
    "# Create a json from the result_df\n",
    "result_json = result_df.to_json(orient=\"records\", indent=4)\n",
    "# save json in the data_folder os.path.join(data_folder, \"submission.json\")\n",
    "with open(os.path.join(data_folder, \"submission.json\"), \"w\") as json_file:\n",
    "    json_file.write(result_json)\n"
   ]
  }
 ],
 "metadata": {
  "kernelspec": {
   "display_name": "myenv",
   "language": "python",
   "name": "python3"
  },
  "language_info": {
   "codemirror_mode": {
    "name": "ipython",
    "version": 3
   },
   "file_extension": ".py",
   "mimetype": "text/x-python",
   "name": "python",
   "nbconvert_exporter": "python",
   "pygments_lexer": "ipython3",
   "version": "3.12.7"
  }
 },
 "nbformat": 4,
 "nbformat_minor": 5
}
