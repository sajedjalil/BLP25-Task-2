{
 "cells": [
  {
   "cell_type": "markdown",
   "id": "1c3f4644",
   "metadata": {},
   "source": [
    "## Create and activate virutal environment"
   ]
  },
  {
   "cell_type": "code",
   "execution_count": null,
   "id": "972dd1df",
   "metadata": {},
   "outputs": [],
   "source": [
    "%%python3 -m venv ../myenv\n",
    "%%source ../myenv/bin/activate"
   ]
  },
  {
   "cell_type": "markdown",
   "id": "c19b6bc2",
   "metadata": {},
   "source": [
    "## Select myenv python run environment from the kernal if not already selected"
   ]
  },
  {
   "cell_type": "code",
   "execution_count": null,
   "id": "24b649aa",
   "metadata": {},
   "outputs": [],
   "source": [
    "%pip install -r ../requirements.txt"
   ]
  },
  {
   "cell_type": "code",
   "execution_count": null,
   "id": "434430a4",
   "metadata": {},
   "outputs": [],
   "source": [
    "from dotenv import load_dotenv\n",
    "import pandas as pd\n",
    "import os\n",
    "import openpyxl\n",
    "\n",
    "load_dotenv()\n",
    "\n",
    "data_folder = \"data\"\n",
    "dev_file_path = os.path.join(data_folder, \"dev.csv\")\n"
   ]
  },
  {
   "cell_type": "code",
   "execution_count": 5,
   "id": "728eafb4",
   "metadata": {},
   "outputs": [
    {
     "data": {
      "text/plain": [
       "0    একটি ফাংশন লিখুন যা দিয়ে দেওয়া জোড়া থেকে তৈ...\n",
       "1    একটি প্রদত্ত স্ট্রিং-এ প্রথম পুনরাবৃত্ত অক্ষর ...\n",
       "2    একটি ফাংশন লিখুন যা n এর চেয়ে ছোট বা সমান একট...\n",
       "3    একটি প্রদত্ত স্ট্রিং এর শব্দগুলোকে বিপরীত করার...\n",
       "4    প্রদত্ত পূর্ণসংখ্যাটি একটি মৌলিক সংখ্যা কিনা ত...\n",
       "Name: instruction, dtype: object"
      ]
     },
     "execution_count": 5,
     "metadata": {},
     "output_type": "execute_result"
    }
   ],
   "source": [
    "df = pd.read_csv(dev_file_path)\n",
    "df['instruction'].head()"
   ]
  },
  {
   "cell_type": "code",
   "execution_count": 6,
   "id": "7e637e31",
   "metadata": {},
   "outputs": [],
   "source": [
    "# Function to output a xlsx file from the 'instruction' column\n",
    "def output_instruction_xlsx(df, output_file_path):\n",
    "    if 'instruction' in df.columns:\n",
    "        df[['instruction']].to_excel(output_file_path, index=False)\n",
    "    else:\n",
    "        print(\"Column 'instruction' not found in DataFrame\")\n",
    "\n",
    "# Example usage\n",
    "output_file_path = os.path.join(data_folder, \"instruction_output.xlsx\")\n",
    "output_instruction_xlsx(df, output_file_path)"
   ]
  },
  {
   "cell_type": "markdown",
   "id": "f90906db",
   "metadata": {},
   "source": [
    "### Take this file to google translate and translate from Bangla to English. Then paste the generated file in the data folder as 'instruction_output_english_translated.xlsx'"
   ]
  },
  {
   "cell_type": "code",
   "execution_count": 7,
   "id": "55a6bd2e",
   "metadata": {},
   "outputs": [
    {
     "data": {
      "text/plain": [
       "0     Write a function that finds the longest chain...\n",
       "1     Write a Python function to find the first rep...\n",
       "2     Write a function that can get a ludic number ...\n",
       "3     Write a function to reverse the words in a gi...\n",
       "4    Write a function to check if the given integer...\n",
       "Name: instruction, dtype: object"
      ]
     },
     "execution_count": 7,
     "metadata": {},
     "output_type": "execute_result"
    }
   ],
   "source": [
    "# Read the column from the Excel file\n",
    "translated_file = 'instruction_output_english_translated.xlsx'\n",
    "df_translated_instruction = pd.read_excel( os.path.join(data_folder, translated_file), engine='openpyxl')\n",
    "df_translated_instruction['instruction'].head()"
   ]
  },
  {
   "cell_type": "markdown",
   "id": "4417a802",
   "metadata": {},
   "source": [
    "## Merge English Translated File back to the original"
   ]
  },
  {
   "cell_type": "code",
   "execution_count": 8,
   "id": "ad7a7674",
   "metadata": {},
   "outputs": [],
   "source": [
    "# Merge 'english_instruction' column into the original dataframe\n",
    "df['english_instruction'] = df_translated_instruction['instruction']\n",
    "\n",
    "# Save the updated dataframe to a CSV file\n",
    "merged_output_file_path = os.path.join(data_folder, \"merged_instructions.csv\")\n",
    "df.to_csv(merged_output_file_path, index=False)"
   ]
  },
  {
   "cell_type": "code",
   "execution_count": 11,
   "id": "a54766af",
   "metadata": {},
   "outputs": [],
   "source": [
    "# Delete translated_file and instruction_output.xlsx\n",
    "os.remove(os.path.join(data_folder, translated_file))\n",
    "os.remove(os.path.join(data_folder, \"instruction_output.xlsx\"))"
   ]
  }
 ],
 "metadata": {
  "kernelspec": {
   "display_name": "myenv",
   "language": "python",
   "name": "python3"
  },
  "language_info": {
   "codemirror_mode": {
    "name": "ipython",
    "version": 3
   },
   "file_extension": ".py",
   "mimetype": "text/x-python",
   "name": "python",
   "nbconvert_exporter": "python",
   "pygments_lexer": "ipython3",
   "version": "3.12.7"
  }
 },
 "nbformat": 4,
 "nbformat_minor": 5
}
